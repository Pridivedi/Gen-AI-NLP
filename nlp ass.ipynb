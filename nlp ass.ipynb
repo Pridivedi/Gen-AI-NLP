{
 "cells": [
  {
   "cell_type": "code",
   "execution_count": null,
   "id": "36af1b92-35ad-479b-9f18-991671924ba5",
   "metadata": {},
   "outputs": [],
   "source": [
    "#1.Print an f-string that displays NLP stands for Natural Language Processing using the variables provided."
   ]
  },
  {
   "cell_type": "code",
   "execution_count": 3,
   "id": "e92f2b41-461b-4238-83a5-b19a34084a0e",
   "metadata": {},
   "outputs": [
    {
     "name": "stdout",
     "output_type": "stream",
     "text": [
      "NLP stands for Natural Language Processing\n"
     ]
    }
   ],
   "source": [
    "word = \"NLP\"\n",
    "full_form = \"Natural Language Processing\"\n",
    "print(f\"{word} stands for {full_form}\")"
   ]
  },
  {
   "cell_type": "code",
   "execution_count": null,
   "id": "b60f421c-ecc4-48af-b5e6-aa727170d2ed",
   "metadata": {},
   "outputs": [],
   "source": [
    "#2.Create a file in the current working directory called contacts.txt by running the cell below."
   ]
  },
  {
   "cell_type": "code",
   "execution_count": 7,
   "id": "4c4a3550-ce7d-4530-a8ae-406b79edb6c7",
   "metadata": {},
   "outputs": [
    {
     "name": "stdout",
     "output_type": "stream",
     "text": [
      "File 'contacts.txt' created successfully.\n"
     ]
    }
   ],
   "source": [
    "with open('contacts.txt', 'w') as file:\n",
    "    pass \n",
    "\n",
    "print(\"File 'contacts.txt' created successfully.\")"
   ]
  },
  {
   "cell_type": "code",
   "execution_count": null,
   "id": "ea3079ff-e9f5-481e-b1b5-44924f9eaee0",
   "metadata": {},
   "outputs": [],
   "source": [
    "#3.Open the file and use .read() to save the contents of the file to a string called fields. Make sure the file is closed at the end."
   ]
  },
  {
   "cell_type": "code",
   "execution_count": 9,
   "id": "bc3b4711-a07a-4012-98a0-1e4614634dbb",
   "metadata": {},
   "outputs": [
    {
     "name": "stdout",
     "output_type": "stream",
     "text": [
      "create a work file\n",
      "\n"
     ]
    }
   ],
   "source": [
    "with open(\"contacts.txt\", \"r\") as f:\n",
    "    fields = f.read()\n",
    "print(fields)"
   ]
  },
  {
   "cell_type": "code",
   "execution_count": 13,
   "id": "0655717a-2c04-495e-847d-2002a4998b90",
   "metadata": {},
   "outputs": [
    {
     "name": "stdout",
     "output_type": "stream",
     "text": [
      "File contents saved to 'fields'.\n",
      "\n"
     ]
    }
   ],
   "source": [
    "# Open the file, read its contents, and close it automatically\n",
    "with open('contacts.txt', 'r') as file:\n",
    "    fields = file.read()  # Save contents to the variable `fields`\n",
    "\n",
    "print(\"File contents saved to 'fields'.\")\n",
    "print(fields)  # Display the contents (will be empty if the file is new)"
   ]
  },
  {
   "cell_type": "code",
   "execution_count": null,
   "id": "840f3ddc-1884-4192-b99f-4da372b7148c",
   "metadata": {},
   "outputs": [],
   "source": [
    "#4.Use PyPDF2 to open the file Business_Proposal.pdf. Extract the text of page 2."
   ]
  },
  {
   "cell_type": "code",
   "execution_count": 1,
   "id": "006cb888-47dd-4fda-80b3-89417df6dea4",
   "metadata": {},
   "outputs": [
    {
     "name": "stdout",
     "output_type": "stream",
     "text": [
      "Requirement already satisfied: PyPDF2 in c:\\users\\pridi\\anaconda3\\lib\\site-packages (3.0.1)\n",
      "Note: you may need to restart the kernel to use updated packages.\n"
     ]
    }
   ],
   "source": [
    "pip install PyPDF2"
   ]
  },
  {
   "cell_type": "code",
   "execution_count": 11,
   "id": "9eded2fe-7a4c-4548-b1e3-5c14387589fa",
   "metadata": {},
   "outputs": [
    {
     "name": "stdout",
     "output_type": "stream",
     "text": [
      "AUTHORS:  \n",
      "Amy Baker, Finance Chair, x345, abaker@ourcompany.com  \n",
      "Chris Donaldson, Accounting Dir., x621, cdonaldson@ourcompany.com  \n",
      "Erin Freeman, Sr. VP, x879, efreeman@ourcompany.com  \n"
     ]
    }
   ],
   "source": [
    "import PyPDF2\n",
    "\n",
    "pdfFile = open('Business_Proposal (1).pdf', 'rb')\n",
    "pdfReader = PyPDF2.PdfReader(pdfFile)\n",
    "pageObj = pdfReader.pages[1]\n",
    "page_two_text = pageObj.extract_text()\n",
    "print(page_two_text)"
   ]
  },
  {
   "cell_type": "code",
   "execution_count": 13,
   "id": "dbe0ef0e-3891-472e-9a6a-260b85b2f930",
   "metadata": {},
   "outputs": [],
   "source": [
    "f.close()"
   ]
  },
  {
   "cell_type": "code",
   "execution_count": null,
   "id": "839fac08-44df-45ad-b141-d4d48b7069e4",
   "metadata": {},
   "outputs": [],
   "source": [
    "## 5.Open the file contacts.txt in append mode. Add the text of page 2 from above to contacts.txt."
   ]
  },
  {
   "cell_type": "code",
   "execution_count": 17,
   "id": "ac35c44a-de04-48e7-8f8d-bbe82d02244f",
   "metadata": {},
   "outputs": [
    {
     "name": "stdout",
     "output_type": "stream",
     "text": [
      "create a work file\n",
      "AUTHORS:  \n",
      "Amy Baker, Finance Chair, x345, abaker@ourcompany.com  \n",
      "Chris Donaldson, Accounting Dir., x621, cdonaldson@ourcompany.com  \n",
      "Erin Freeman, Sr. VP, x879, efreeman@ourcompany.com  AUTHORS:  \n",
      "Amy Baker, Finance Chair, x345, abaker@ourcompany.com  \n",
      "Chris Donaldson, Accounting Dir., x621, cdonaldson@ourcompany.com  \n",
      "Erin Freeman, Sr. VP, x879, efreeman@ourcompany.com  \n"
     ]
    }
   ],
   "source": [
    "with open(\"contacts.txt\", \"a+\") as k: #open the file with append and read permissions\n",
    "    k.write(page_two_text)\n",
    "    k.seek(0)\n",
    "    print(k.read()) #print the contents of the file."
   ]
  },
  {
   "cell_type": "code",
   "execution_count": 19,
   "id": "51503680-8f48-4810-bcf8-cdaf639e6a06",
   "metadata": {},
   "outputs": [
    {
     "data": {
      "text/plain": [
       "<re.Match object; span=(43, 64), match='abaker@ourcompany.com'>"
      ]
     },
     "execution_count": 19,
     "metadata": {},
     "output_type": "execute_result"
    }
   ],
   "source": [
    "# 6. Using the page_two_text variable created above, extract any email addresses that were contained in the file Business_Proposal.pdf.\n",
    "import re\n",
    "\n",
    "Email_list = r'\\w+@\\w+.\\w{3}'\n",
    "\n",
    "re.search(Email_list, page_two_text)"
   ]
  }
 ],
 "metadata": {
  "kernelspec": {
   "display_name": "Python 3 (ipykernel)",
   "language": "python",
   "name": "python3"
  },
  "language_info": {
   "codemirror_mode": {
    "name": "ipython",
    "version": 3
   },
   "file_extension": ".py",
   "mimetype": "text/x-python",
   "name": "python",
   "nbconvert_exporter": "python",
   "pygments_lexer": "ipython3",
   "version": "3.12.4"
  }
 },
 "nbformat": 4,
 "nbformat_minor": 5
}
